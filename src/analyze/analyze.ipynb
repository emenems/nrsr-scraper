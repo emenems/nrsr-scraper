{
 "cells": [
  {
   "cell_type": "markdown",
   "metadata": {},
   "source": [
    "# Analyze scraped NRSR values\n",
    "\n",
    "To get all datasets used in this notebook run:\n",
    "\n",
    "```bash\n",
    "# get voting data\n",
    "python src/main.py --type voting \\\n",
    "                   --start-id 51426 \\                                  \n",
    "                   --end-id 55902 \\                                   \n",
    "                   --log-file data/raw/voting_data_51426-55902.log \\\n",
    "                   --save-to data/raw/voting_data_51426-55902.json\n",
    "\n",
    "# get member bios\n",
    "python src/main.py --type member \\\n",
    "                   --input-file data/raw/voting_data_51426-55902.json \\\n",
    "                   --log-file data/raw/members_data_51426-55902.log \\ \n",
    "                   --save-to data/raw/members_data_51426-55902.json \n",
    "\n",
    "# get member election results\n",
    "python src/main.py --type election \\\n",
    "                    --input-file https://volby.statistics.sk/nrsr/nrsr2023/files/xlsx/NRSR2023_SK_tab07a.xlsx \\\n",
    "                    --save-to data/interim/member_elections.xlsx\n",
    "\n",
    "# get document info related to voting\n",
    "python src/main.py --type document \\\n",
    "                   --input-file data/raw/voting_data_51426-55902.json \\\n",
    "                   --log-file data/raw/document_data_51426-55902.log \\\n",
    "                   --save-to data/raw/document_data_51426-55902.xlsx\n",
    "\n",
    "# convert the data to input file use here\n",
    "python src/convert/convert_to_excel.py --input-voting data/raw/voting_data_51426-55902.json \\\n",
    "                                       --input-member data/raw/members_data_51426-55902.json \\\n",
    "                                       --input-election data/interim/member_elections.xlsx \\\n",
    "                                       --input-document data/raw/document_data_51426-55902.xlsx \\\n",
    "                                       --output-file data/interim/voting_member_election_document_51426-55902.xlsx\n",
    "```"
   ]
  },
  {
   "cell_type": "markdown",
   "metadata": {},
   "source": [
    "## Import the required libraries"
   ]
  },
  {
   "cell_type": "code",
   "execution_count": 22,
   "metadata": {},
   "outputs": [],
   "source": [
    "import pandas as pd\n",
    "import numpy as np\n",
    "from datetime import datetime"
   ]
  },
  {
   "cell_type": "markdown",
   "metadata": {},
   "source": [
    "## Processing settings"
   ]
  },
  {
   "cell_type": "code",
   "execution_count": 2,
   "metadata": {},
   "outputs": [],
   "source": [
    "input_file = '../../data/interim/voting_member_election_document_51426-55902.xlsx'\n",
    "min_date = datetime(2024, 1, 1)\n",
    "max_date = datetime(2024, 12, 31)\n",
    "coalition_votes_nr = 79"
   ]
  },
  {
   "cell_type": "markdown",
   "metadata": {},
   "source": [
    "## Read data"
   ]
  },
  {
   "cell_type": "code",
   "execution_count": null,
   "metadata": {},
   "outputs": [],
   "source": [
    "df = pd.read_excel(input_file)\n",
    "df['cas_hlasovania'] = pd.to_datetime(df['cas_hlasovania'], dayfirst=True)\n",
    "df = df[(df['cas_hlasovania'] >= min_date) & (df['cas_hlasovania'] <= max_date)]\n",
    "df.head()"
   ]
  },
  {
   "cell_type": "markdown",
   "metadata": {},
   "source": [
    "## Basic statistics"
   ]
  },
  {
   "cell_type": "code",
   "execution_count": null,
   "metadata": {},
   "outputs": [],
   "source": [
    "columns_voting = [\n",
    "  'voting_id', 'cas_hlasovania', 'schodza', 'cislo_schodze', 'cislo_hlasovania', 'nazov_hlasovania', 'vysledok_hlasovania', 'schvalene', 'pritomni', 'hlasujucich', 'za_hlasovalo', 'proti_hlasovalo', 'zdrzalo_sa', 'nehlasovalo', 'nepritomni'\n",
    "]\n",
    "dfa = df[columns_voting].groupby('voting_id').max()\n",
    "dfa.head()"
   ]
  },
  {
   "cell_type": "code",
   "execution_count": null,
   "metadata": {},
   "outputs": [],
   "source": [
    "basic_stats = {\n",
    "    'totalVotes': dfa.shape[0],\n",
    "    'totalVotesCount': dfa.hlasujucich.sum(),\n",
    "    'votesPassed': int(dfa['schvalene'].str.count('ano').sum()),\n",
    "    'votesFailed': int(dfa['schvalene'].str.count('nie').sum()),\n",
    "    'votesInvalid': int(df['hlas'].str.count('neplatny').sum()),\n",
    "    'votesOverThreshold': dfa[dfa['za_hlasovalo'] >= coalition_votes_nr].shape[0],\n",
    "}\n",
    "basic_stats"
   ]
  },
  {
   "cell_type": "markdown",
   "metadata": {},
   "source": [
    "## Votings in graphs"
   ]
  },
  {
   "cell_type": "markdown",
   "metadata": {},
   "source": [
    "### Monthly votes"
   ]
  },
  {
   "cell_type": "code",
   "execution_count": null,
   "metadata": {},
   "outputs": [],
   "source": [
    "# Add a new column for the month\n",
    "dfa['month'] = dfa['cas_hlasovania'].dt.to_period('M')\n",
    "\n",
    "# Group by month and schvalene, then count the number of votes\n",
    "monthly_votes = dfa.groupby(['month', 'schvalene']).size().unstack(fill_value=0)\n",
    "\n",
    "monthly_votes\n",
    "# Convert the month to a string format\n",
    "monthly_votes.index = monthly_votes.index.strftime('%b')\n",
    "\n",
    "# Convert to list of dictionaries\n",
    "monthly_votes_list = monthly_votes.reset_index().rename(columns={'month': 'date'}).to_dict(orient='records')\n",
    "monthly_votes_list"
   ]
  },
  {
   "cell_type": "markdown",
   "metadata": {},
   "source": [
    "### Vote count distribution"
   ]
  },
  {
   "cell_type": "code",
   "execution_count": null,
   "metadata": {},
   "outputs": [],
   "source": [
    "temp = dfa[['za_hlasovalo']].copy()\n",
    "temp['za_hlasovalo'] = temp['za_hlasovalo'].clip(lower=0, upper=150)\n",
    "\n",
    "votes_distribution = pd.DataFrame({'votes': [i  for i in range(0,151)]})\n",
    "votes_distribution = votes_distribution.assign(count = 0)\n",
    "for vote in votes_distribution['votes']:\n",
    "    votes_distribution.loc[vote, 'count'] = temp[temp['za_hlasovalo'] == vote].shape[0]\n",
    "\n",
    "votes_distribution_list = votes_distribution.to_dict(orient='records')\n",
    "votes_distribution_list"
   ]
  },
  {
   "cell_type": "markdown",
   "metadata": {},
   "source": [
    "### Vote by hour distribution"
   ]
  },
  {
   "cell_type": "code",
   "execution_count": null,
   "metadata": {},
   "outputs": [],
   "source": [
    "dfa['hour'] = dfa['cas_hlasovania'].dt.hour\n",
    "\n",
    "# Group by day and hour and count the number of votings\n",
    "votings_per_day_hour = dfa.groupby(['hour']).size().reset_index(name='count')\n",
    "\n",
    "# envorce hour from 0 to 23 - use merge to do that\n",
    "votings_per_day_hour = pd.merge(pd.DataFrame({'hour': range(24)}), votings_per_day_hour, on='hour', how='left').fillna(0)\n",
    "votings_per_day_hour['count'] = votings_per_day_hour['count'].astype(int)\n",
    "\n",
    "# Convert the result to a list of dictionaries\n",
    "votings_per_day_hour_list = votings_per_day_hour.to_dict(orient='records')\n",
    "votings_per_day_hour_list"
   ]
  },
  {
   "cell_type": "markdown",
   "metadata": {},
   "source": [
    "## Members - fun facts"
   ]
  },
  {
   "cell_type": "code",
   "execution_count": null,
   "metadata": {},
   "outputs": [],
   "source": [
    "member_columns = [\n",
    "    'poslanec_id', 'poslanec_meno', 'poslanec_priezvisko', 'poslanec_priezvisko_meno', 'poslanec_titul', 'kandidoval_za', 'poslanec_narodeny', 'poslanec_narodnost', 'poslanec_bydlisko', 'poslanec_kraj', 'poslanec_email', 'poslanec_www', 'poslanec_photo', 'poslanec_clenstvo', 'poslanec_titul_pocet', 'poslanec_volby_hlasov', 'poslanec_volby_hlasov_podiel', 'poslanec_volby_poradie', 'poslanec_volby_poradie_listok'\n",
    "]\n",
    "dfm = df.drop_duplicates(subset='poslanec_id')[member_columns]\n",
    "dfm['poslanec_kraj'] = dfm['poslanec_kraj'].str.replace(' kraj', '')\n",
    "\n",
    "dfm['narodeny_datetime'] = pd.to_datetime(dfm['poslanec_narodeny'], format='%d. %m. %Y')\n",
    "\n",
    "current_date = datetime.now()\n",
    "dfm['poslanec_vek'] = dfm['narodeny_datetime'].apply(lambda x: current_date.year - x.year - ((current_date.month, current_date.day) < (x.month, x.day)))\n",
    "\n",
    "dfm.head()"
   ]
  },
  {
   "cell_type": "markdown",
   "metadata": {},
   "source": [
    "### Birthday votes"
   ]
  },
  {
   "cell_type": "code",
   "execution_count": null,
   "metadata": {},
   "outputs": [],
   "source": [
    "df['poslanec_narodeny_datetime'] = pd.to_datetime(df['poslanec_narodeny'], dayfirst=True)\n",
    "\n",
    "df['vote_day'] = df['cas_hlasovania'].dt.day\n",
    "df['vote_month'] = df['cas_hlasovania'].dt.month\n",
    "df['birth_day'] = df['poslanec_narodeny_datetime'].dt.day\n",
    "df['birth_month'] = df['poslanec_narodeny_datetime'].dt.month\n",
    "\n",
    "# Compare the day and month of the voting date with the birthday\n",
    "birthday_votes = df[(df['vote_day'] == df['birth_day']) & (df['vote_month'] == df['birth_month'])]\n",
    "\n",
    "# Count the number of matches\n",
    "birthday_vote_count = birthday_votes.shape[0]\n",
    "\n",
    "birthday_votes_dict = {\n",
    "    'totalMembers': df['poslanec_id'].nunique(),\n",
    "    'uniqueMembers': birthday_votes['poslanec_id'].nunique(),\n",
    "    'birthdayVotes': birthday_vote_count,\n",
    "    'birthdayVotesPercentage': np.round((birthday_vote_count / df.shape[0])*100,3),\n",
    "}\n",
    "birthday_votes_dict\n"
   ]
  },
  {
   "cell_type": "markdown",
   "metadata": {},
   "source": [
    "### Most restrained member"
   ]
  },
  {
   "cell_type": "code",
   "execution_count": null,
   "metadata": {},
   "outputs": [],
   "source": [
    "zdrzal_votes = df[df['hlas'] == 'zdrzal']\n",
    "\n",
    "# Group by the member identifier and count the occurrences of \"zdrzal\"\n",
    "zdrzal_counts = zdrzal_votes.groupby('poslanec_id').size().reset_index(name='count')\n",
    "\n",
    "# Identify the member with the highest count\n",
    "most_zdrzal_member = zdrzal_counts.loc[zdrzal_counts['count'].idxmax()]\n",
    "\n",
    "most_zdrzal_member_dict = {\n",
    "    'memberID': most_zdrzal_member['poslanec_id'],\n",
    "    'memberVotes': most_zdrzal_member['count'],\n",
    "    'votesPercentage': np.round((most_zdrzal_member['count'] / dfa.shape[0])*100,3),\n",
    "    'memberName': df[df['poslanec_id'] == most_zdrzal_member['poslanec_id']]['poslanec_priezvisko_meno'].iloc[-1],\n",
    "    'memberParty': df[df['poslanec_id'] == most_zdrzal_member['poslanec_id']]['kandidoval_za'].iloc[-1],\n",
    "}\n",
    "most_zdrzal_member_dict"
   ]
  },
  {
   "cell_type": "code",
   "execution_count": null,
   "metadata": {},
   "outputs": [],
   "source": [
    "dfm"
   ]
  },
  {
   "cell_type": "code",
   "execution_count": 13,
   "metadata": {},
   "outputs": [],
   "source": [
    "# compare_file = '../../data/processed/data_hlasovania_2024_12_23_05_04.csv'\n",
    "# x = pd.read_csv(compare_file, sep='\\t')"
   ]
  },
  {
   "cell_type": "markdown",
   "metadata": {},
   "source": [
    "### Member with minimum number of votes (in election)"
   ]
  },
  {
   "cell_type": "code",
   "execution_count": null,
   "metadata": {},
   "outputs": [],
   "source": [
    "# member with lelast number in the poslanec_volby_hlasov column\n",
    "temp = dfm.sort_values(by='poslanec_volby_hlasov', ascending=True).head(1)\n",
    "\n",
    "least_votes_member_dict = {\n",
    "    'memberID': temp['poslanec_id'].iloc[0],\n",
    "    'memberVotes': temp['poslanec_volby_hlasov'].iloc[0],\n",
    "    'votesPercentage': temp['poslanec_volby_hlasov_podiel'].iloc[0],\n",
    "    'memberName': temp['poslanec_priezvisko_meno'].iloc[0],\n",
    "    'memberParty': temp['kandidoval_za'].iloc[0],\n",
    "}\n",
    "least_votes_member_dict\n",
    "\n"
   ]
  },
  {
   "cell_type": "markdown",
   "metadata": {},
   "source": [
    "### Members by 'kraj'"
   ]
  },
  {
   "cell_type": "code",
   "execution_count": null,
   "metadata": {},
   "outputs": [],
   "source": [
    "member_kraj = dfm[['poslanec_kraj','poslanec_id']].groupby('poslanec_kraj').count().reset_index().rename(columns={'poslanec_kraj':'kraj','poslanec_id':'count'})\n",
    "member_kraj_list = member_kraj.sort_values(by='count',ascending=False).to_dict(orient='records')\n",
    "member_kraj_list"
   ]
  },
  {
   "cell_type": "markdown",
   "metadata": {},
   "source": [
    "### Members by academic titles"
   ]
  },
  {
   "cell_type": "code",
   "execution_count": null,
   "metadata": {},
   "outputs": [],
   "source": [
    "member_title = dfm[['poslanec_id','poslanec_titul_pocet']].groupby('poslanec_titul_pocet').count().reset_index().rename(columns={'poslanec_id':'count','poslanec_titul_pocet':'titlesNumber'})\n",
    "member_title_list = member_title.sort_values(by='count',ascending=False).to_dict(orient='records')\n",
    "member_title_list"
   ]
  },
  {
   "cell_type": "markdown",
   "metadata": {},
   "source": [
    "### Members by age"
   ]
  },
  {
   "cell_type": "code",
   "execution_count": null,
   "metadata": {},
   "outputs": [],
   "source": [
    "member_age = dfm[['poslanec_id','poslanec_vek']].groupby('poslanec_vek').count().reset_index().rename(columns={'poslanec_id':'count','poslanec_vek':'vek'})\n",
    "member_age_list = member_age.sort_values(by='vek', ascending=True).to_dict(orient='records')\n",
    "member_age_list"
   ]
  },
  {
   "cell_type": "code",
   "execution_count": null,
   "metadata": {},
   "outputs": [],
   "source": []
  }
 ],
 "metadata": {
  "kernelspec": {
   "display_name": "env",
   "language": "python",
   "name": "python3"
  },
  "language_info": {
   "codemirror_mode": {
    "name": "ipython",
    "version": 3
   },
   "file_extension": ".py",
   "mimetype": "text/x-python",
   "name": "python",
   "nbconvert_exporter": "python",
   "pygments_lexer": "ipython3",
   "version": "3.13.1"
  }
 },
 "nbformat": 4,
 "nbformat_minor": 2
}
